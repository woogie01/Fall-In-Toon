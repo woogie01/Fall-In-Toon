{
 "cells": [
  {
   "cell_type": "code",
   "execution_count": null,
   "id": "6b4ee481",
   "metadata": {},
   "outputs": [],
   "source": [
    "from selenium import webdriver\n",
    "from webdriver_manager.chrome import ChromeDriverManager\n",
    "\n",
    "from selenium.webdriver.common.by import By\n",
    "from selenium.webdriver.chrome.service import Service\n",
    "import time\n",
    "\n",
    "from bs4 import BeautifulSoup as bs\n",
    "\n",
    "from selenium.webdriver.support.ui import WebDriverWait\n",
    "from selenium.webdriver.support import expected_conditions as EC\n",
    "from selenium.webdriver.common.by import By\n",
    "\n",
    "from selenium.webdriver.common.keys import Keys\n",
    "import pyperclip\n",
    "\n",
    "import pandas as pd"
   ]
  },
  {
   "cell_type": "markdown",
   "id": "b2fd4a04",
   "metadata": {},
   "source": [
    "### 네이버 웹툰 페이지 열기"
   ]
  },
  {
   "cell_type": "code",
   "execution_count": null,
   "id": "a7ba0f0c",
   "metadata": {},
   "outputs": [],
   "source": [
    "# 네이버 웹툰 페이지 열기\n",
    "url = \"https://comic.naver.com/webtoon\"\n",
    "driver = webdriver.Chrome(ChromeDriverManager().install())\n",
    "driver.get(url)\n",
    "\n",
    "# 페이지 로딩을 위한 시간\n",
    "time.sleep(3)"
   ]
  },
  {
   "cell_type": "markdown",
   "id": "d7ef51f2",
   "metadata": {},
   "source": [
    "### 청소년 관람불가 웹툰 정보도 가져오기 위한 로그인 과정"
   ]
  },
  {
   "cell_type": "code",
   "execution_count": null,
   "id": "b4fb6d7f",
   "metadata": {},
   "outputs": [],
   "source": [
    "# 네이버 웹툰 로그인\n",
    "user_id = 'naver_id'\n",
    "user_pw = 'naver_password'\n",
    "\n",
    "login_btn = driver.find_element_by_class_name('gnb_btn_login')\n",
    "login_btn.click()\n",
    "\n",
    "# ID\n",
    "login_id = driver.find_element_by_id('id')\n",
    "login_id.click()\n",
    "pyperclip.copy(user_id)\n",
    "login_id.send_keys(Keys.COMMAND, 'v')\n",
    "time.sleep(2)\n",
    "\n",
    "# Password\n",
    "login_pw = driver.find_element_by_id('pw')\n",
    "login_pw.click()\n",
    "pyperclip.copy(user_pw)\n",
    "login_pw.send_keys(Keys.COMMAND, 'v')\n",
    "time.sleep(2)\n",
    "\n",
    "# 5. 로그인 버튼 클릭\n",
    "driver.find_element_by_id('log.login').click()"
   ]
  },
  {
   "cell_type": "markdown",
   "id": "9a1cda55",
   "metadata": {},
   "source": [
    "### CSV 파일로 변환하기 위한 정기 연재 웹툰 리스트 선언"
   ]
  },
  {
   "cell_type": "code",
   "execution_count": null,
   "id": "c4b21db2",
   "metadata": {},
   "outputs": [],
   "source": [
    "# 정보들을 담을 리스트 정의하기\n",
    "id_list = []\n",
    "title_list = []\n",
    "author_list = []\n",
    "genre_list = []\n",
    "story_list = []\n",
    "webtoon_url_list = []\n",
    "thumbnail_url_list = []\n",
    "\n",
    "webtoon_id = 0"
   ]
  },
  {
   "cell_type": "markdown",
   "id": "929bb725",
   "metadata": {},
   "source": [
    "### 정기 연재 웹툰 정보 가져오기"
   ]
  },
  {
   "cell_type": "code",
   "execution_count": null,
   "id": "4323bb4e",
   "metadata": {},
   "outputs": [],
   "source": [
    "# 주 1회 연재중인 클릭할 수 있는 제목 리스트 가져오기\n",
    "titles = driver.find_elements(By.CLASS_NAME, \"Poster__link--sopnC\")"
   ]
  },
  {
   "cell_type": "code",
   "execution_count": null,
   "id": "a8423669",
   "metadata": {},
   "outputs": [],
   "source": [
    "# 주 1회 연재 웹툰 개수만큼 반복하기\n",
    "for i in range(len(titles)):\n",
    "    print(\"\\rprocess: \" + str(i + 1) + \" / \" + str(len(titles)), end=\"\")\n",
    "\n",
    "    # 웹페이지가 로딩되기도 전에 코드가 실행되는 것을 방지하기 위한 기다림\n",
    "    time.sleep(1)\n",
    "\n",
    "    # 0번째 웹툰, 즉 월요일 첫번재 웹툰부터 클릭해서 해당 페이지로 이동하기\n",
    "    titles = driver.find_elements(By.CLASS_NAME, \"Poster__link--sopnC\")\n",
    "    \n",
    "    # 클릭하려는 요소로 스크롤하여 가시화시키기\n",
    "    driver.execute_script(\"arguments[0].scrollIntoView();\", titles[i])\n",
    "    \n",
    "    # 클릭하기\n",
    "    titles[i].click()\n",
    "    \n",
    "    # 웹페이지가 완전히 로드될 때까지 기다리는 시간 설정 (예: 10초)\n",
    "    wait = WebDriverWait(driver, 10)\n",
    "    \n",
    "    # 웹페이지가 완전히 로드될 때까지 기다림\n",
    "    wait.until(EC.presence_of_element_located((By.CLASS_NAME, 'EpisodeListInfo__title--mYLjC')))\n",
    "    wait.until(EC.presence_of_element_located((By.CLASS_NAME, 'Poster__image--d9XTI')))\n",
    "    wait.until(EC.presence_of_element_located((By.CLASS_NAME, 'ContentMetaInfo__link--xTtO6')))\n",
    "    wait.until(EC.presence_of_element_located((By.CLASS_NAME, 'TagGroup__tag_group--uUJza')))\n",
    "    wait.until(EC.presence_of_element_located((By.CLASS_NAME, 'EpisodeListInfo__summary_wrap--ZWNW5')))\n",
    "\n",
    "    # 이동한 페이지의 html 코드 가져오기\n",
    "    html = driver.page_source\n",
    "    soup = bs(html, 'html.parser')\n",
    "\n",
    "    # 제목 정보 가져오기\n",
    "    title = soup.find('h2', {'class': 'EpisodeListInfo__title--mYLjC'}).text\n",
    "    \n",
    "    # 만약 연재 요일이 2개 이상이라서 이미 저장했던 웹툰이라면 넘어가기\n",
    "    if title in title_list:\n",
    "        driver.back()\n",
    "        continue\n",
    "    \n",
    "    # 썸네일 이미지 주소 가져오기\n",
    "    # thumbnail_url = soup.find('img', {'class': 'Poster__image--d9XTI'})['src']\n",
    "    thumbnail_url = soup.find('div', {'class': 'Poster__thumbnail_area--gviWY Poster__type193x250--Ge81Q'}).find('img')['src']\n",
    "    \n",
    "    # 저자 정보 가져오기\n",
    "    author =  soup.find('a', {'class': 'ContentMetaInfo__link--xTtO6'}).text\n",
    "    author = author.replace(' / ', ', ')\n",
    "    \n",
    "    # 카테고리 태그 정보 가져오기\n",
    "    tag_group = soup.find('div', {'class': 'TagGroup__tag_group--uUJza'})\n",
    "    tags = tag_group.find_all('a')\n",
    "    tag_group = [tag.text.replace('#', '') for tag in tags]\n",
    "    \n",
    "    # 장르 정보 가져오기\n",
    "    genre = tag_group[0]\n",
    "    \n",
    "    # 줄거리 정보 가져오기\n",
    "    story = soup.find('div', {'class': 'EpisodeListInfo__summary_wrap--ZWNW5'}).find('p').text\n",
    "\n",
    "    # 정보들을 리스트에 담기\n",
    "    id_list.append(webtoon_id)\n",
    "    title_list.append(title)\n",
    "    thumbnail_url_list.append(thumbnail_url)\n",
    "    webtoon_url_list.append(driver.current_url)\n",
    "    author_list.append(author)\n",
    "    genre_list.append(genre)\n",
    "    story_list.append(story)\n",
    "    \n",
    "    # 뒤로 가기\n",
    "    driver.back()\n",
    "    webtoon_id += 1\n",
    "    time.sleep(0.5)"
   ]
  },
  {
   "cell_type": "markdown",
   "id": "c308747a",
   "metadata": {},
   "source": [
    "### 정기 연재 웹툰 정보 CSV 파일로 저장"
   ]
  },
  {
   "cell_type": "code",
   "execution_count": null,
   "id": "1f9c31c1",
   "metadata": {},
   "outputs": [],
   "source": [
    "total_data = pd.DataFrame()\n",
    "\n",
    "total_data['id'] = id_list\n",
    "total_data['title'] = title_list\n",
    "total_data['author'] = author_list\n",
    "total_data['genre'] = genre_list\n",
    "total_data['story'] = story_list\n",
    "total_data['thumbnail_url'] = thumbnail_url_list\n",
    "total_data['webtoon_url'] = webtoon_url_list\n",
    "\n",
    "# 따로 인덱스를 생성하지 않고 id를 인덱스로 정하기\n",
    "total_data.set_index('id', inplace=True)\n",
    "\n",
    "# CSV 파일로 저장하기\n",
    "total_data.to_csv(\"daily.csv\", encoding='utf-8-sig')"
   ]
  },
  {
   "cell_type": "markdown",
   "id": "f4fee49a",
   "metadata": {},
   "source": [
    "### CSV 파일로 변환하기 위한 정기 연재 웹툰 리스트 선언"
   ]
  },
  {
   "cell_type": "code",
   "execution_count": null,
   "id": "f80ef18f",
   "metadata": {},
   "outputs": [],
   "source": [
    "# 정보들을 담을 리스트 정의하기\n",
    "id_list = []\n",
    "title_list = []\n",
    "author_list = []\n",
    "genre_list = []\n",
    "story_list = []\n",
    "webtoon_url_list = []\n",
    "thumbnail_url_list = []\n",
    "\n",
    "webtoon_id = 0"
   ]
  },
  {
   "cell_type": "markdown",
   "id": "c7ba2b67",
   "metadata": {},
   "source": [
    "### 비정기 연재 웹툰 정보 가져오기"
   ]
  },
  {
   "cell_type": "code",
   "execution_count": null,
   "id": "0670a845",
   "metadata": {},
   "outputs": [],
   "source": [
    "# 비정기 연재 페이지로 넘어가기\n",
    "element = WebDriverWait(driver, 10).until(\n",
    "    EC.presence_of_element_located((By.XPATH, \"//a[contains(text(), '매일+')]\"))\n",
    ")\n",
    "\n",
    "href_attribute = element.get_attribute('href')\n",
    "driver.get(href_attribute)"
   ]
  },
  {
   "cell_type": "code",
   "execution_count": null,
   "id": "2acd6a32",
   "metadata": {},
   "outputs": [],
   "source": [
    "# 비정기 연재중인 클릭할 수 있는 제목 리스트 가져오기\n",
    "titles = driver.find_elements(By.CLASS_NAME, \"Poster__link--sopnC\")"
   ]
  },
  {
   "cell_type": "code",
   "execution_count": null,
   "id": "55cf5b1d",
   "metadata": {},
   "outputs": [],
   "source": [
    "# 비정기 연재 웹툰 개수만큼 반복하기\n",
    "for i in range(len(titles)):\n",
    "    print(\"\\rprocess: \" + str(i + 1) + \" / \" + str(len(titles)), end=\"\")\n",
    "\n",
    "    # 웹페이지가 로딩되기도 전에 코드가 실행되는 것을 방지하기 위한 기다림\n",
    "    time.sleep(1)\n",
    "\n",
    "    # 0번째 웹툰, 즉 월요일 첫번재 웹툰부터 클릭해서 해당 페이지로 이동하기\n",
    "    titles = driver.find_elements(By.CLASS_NAME, \"Poster__link--sopnC\")\n",
    "    \n",
    "    # 클릭하려는 요소로 스크롤하여 가시화시키기\n",
    "    driver.execute_script(\"arguments[0].scrollIntoView();\", titles[i])\n",
    "    \n",
    "    # 클릭하기\n",
    "    titles[i].click()\n",
    "    \n",
    "    # 웹페이지가 완전히 로드될 때까지 기다리는 시간 설정 (예: 10초)\n",
    "    wait = WebDriverWait(driver, 10)\n",
    "    \n",
    "    # 웹페이지가 완전히 로드될 때까지 기다림\n",
    "    wait.until(EC.presence_of_element_located((By.CLASS_NAME, 'EpisodeListInfo__title--mYLjC')))\n",
    "    wait.until(EC.presence_of_element_located((By.CLASS_NAME, 'Poster__image--d9XTI')))\n",
    "    wait.until(EC.presence_of_element_located((By.CLASS_NAME, 'ContentMetaInfo__link--xTtO6')))\n",
    "    wait.until(EC.presence_of_element_located((By.CLASS_NAME, 'TagGroup__tag_group--uUJza')))\n",
    "    wait.until(EC.presence_of_element_located((By.CLASS_NAME, 'EpisodeListInfo__summary_wrap--ZWNW5')))\n",
    "\n",
    "    # 이동한 페이지의 html 코드 가져오기\n",
    "    html = driver.page_source\n",
    "    soup = bs(html, 'html.parser')\n",
    "\n",
    "    # 제목 정보 가져오기\n",
    "    title = soup.find('h2', {'class': 'EpisodeListInfo__title--mYLjC'}).text\n",
    "    \n",
    "    # 만약 연재 요일이 2개 이상이라서 이미 저장했던 웹툰이라면 넘어가기\n",
    "    if title in title_list:\n",
    "        driver.back()\n",
    "        continue\n",
    "    \n",
    "    # 썸네일 이미지 주소 가져오기\n",
    "    # thumbnail_url = soup.find('img', {'class': 'Poster__image--d9XTI'})['src']\n",
    "    thumbnail_url = soup.find('div', {'class': 'Poster__thumbnail_area--gviWY Poster__type193x250--Ge81Q'}).find('img')['src']\n",
    "    \n",
    "    # 저자 정보 가져오기\n",
    "    author =  soup.find('a', {'class': 'ContentMetaInfo__link--xTtO6'}).text\n",
    "    author = author.replace(' / ', ', ')\n",
    "    \n",
    "    # 카테고리 태그 정보 가져오기\n",
    "    tag_group = soup.find('div', {'class': 'TagGroup__tag_group--uUJza'})\n",
    "    tags = tag_group.find_all('a')\n",
    "    tag_group = [tag.text.replace('#', '') for tag in tags]\n",
    "    \n",
    "    # 장르 정보 가져오기\n",
    "    genre = tag_group[0]\n",
    "    \n",
    "    # 줄거리 정보 가져오기\n",
    "    story = soup.find('div', {'class': 'EpisodeListInfo__summary_wrap--ZWNW5'}).find('p').text\n",
    "\n",
    "    # 정보들을 리스트에 담기\n",
    "    id_list.append(webtoon_id)\n",
    "    title_list.append(title)\n",
    "    thumbnail_url_list.append(thumbnail_url)\n",
    "    webtoon_url_list.append(driver.current_url)\n",
    "    author_list.append(author)\n",
    "    genre_list.append(genre)\n",
    "    story_list.append(story)\n",
    "    \n",
    "    # 뒤로 가기\n",
    "    driver.back()\n",
    "    webtoon_id += 1\n",
    "    time.sleep(0.5)"
   ]
  },
  {
   "cell_type": "markdown",
   "id": "94e50ce9",
   "metadata": {},
   "source": [
    "###  비정기 연재 웹툰 정보 CSV 파일로 저장"
   ]
  },
  {
   "cell_type": "code",
   "execution_count": null,
   "id": "c21d78df",
   "metadata": {},
   "outputs": [],
   "source": [
    "total_data = pd.DataFrame()\n",
    "\n",
    "total_data['id'] = id_list\n",
    "total_data['title'] = title_list\n",
    "total_data['author'] = author_list\n",
    "total_data['genre'] = genre_list\n",
    "total_data['story'] = story_list\n",
    "total_data['thumbnail_url'] = thumbnail_url_list\n",
    "total_data['webtoon_url'] = webtoon_url_list\n",
    "\n",
    "# 따로 인덱스를 생성하지 않고 id를 인덱스로 정하기\n",
    "total_data.set_index('id', inplace=True)\n",
    "\n",
    "# CSV 파일로 저장하기\n",
    "total_data.to_csv(\"dailyPlus.csv\", encoding='utf-8-sig')"
   ]
  }
 ],
 "metadata": {
  "kernelspec": {
   "display_name": "Python 3 (ipykernel)",
   "language": "python",
   "name": "python3"
  },
  "language_info": {
   "codemirror_mode": {
    "name": "ipython",
    "version": 3
   },
   "file_extension": ".py",
   "mimetype": "text/x-python",
   "name": "python",
   "nbconvert_exporter": "python",
   "pygments_lexer": "ipython3",
   "version": "3.11.4"
  }
 },
 "nbformat": 4,
 "nbformat_minor": 5
}
