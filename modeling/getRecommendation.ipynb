{
 "cells": [
  {
   "cell_type": "markdown",
   "id": "a2212644",
   "metadata": {},
   "source": [
    "## 줄거리 기반 추천"
   ]
  },
  {
   "cell_type": "code",
   "execution_count": null,
   "id": "100a45c3",
   "metadata": {},
   "outputs": [],
   "source": [
    "import pandas as pd\n",
    "import numpy as np"
   ]
  },
  {
   "cell_type": "markdown",
   "id": "5f9730ce",
   "metadata": {},
   "source": [
    "#### 정기 연재 웹툰 정보"
   ]
  },
  {
   "cell_type": "code",
   "execution_count": null,
   "id": "f27461cf",
   "metadata": {},
   "outputs": [],
   "source": [
    "daily = pd.read_csv('daily.csv')\n",
    "daily"
   ]
  },
  {
   "cell_type": "markdown",
   "id": "3e21cf39",
   "metadata": {},
   "source": [
    "#### 비정기 연재 웹툰 정보"
   ]
  },
  {
   "cell_type": "code",
   "execution_count": null,
   "id": "8cd462d9",
   "metadata": {},
   "outputs": [],
   "source": [
    "dailyPlus = pd.read_csv('dailyPlus.csv')\n",
    "dailyPlus"
   ]
  },
  {
   "cell_type": "markdown",
   "id": "8a395230",
   "metadata": {},
   "source": [
    "#### CSV 파일 통합 후 중복 제거 후 DataFrame 생성"
   ]
  },
  {
   "cell_type": "code",
   "execution_count": null,
   "id": "da143019",
   "metadata": {},
   "outputs": [],
   "source": [
    "df = pd.concat([daily, dailyPlus], ignore_index=True)\n",
    "df = df.drop_duplicates(subset='title', keep='first')\n",
    "\n",
    "# DataFrame\n",
    "df = df.set_index('id')\n",
    "df"
   ]
  },
  {
   "cell_type": "markdown",
   "id": "79dcdd13",
   "metadata": {},
   "source": [
    "### 한국어 자연어 처리 - 형태소 토큰화"
   ]
  },
  {
   "cell_type": "code",
   "execution_count": null,
   "id": "c95e2455",
   "metadata": {},
   "outputs": [],
   "source": [
    "from konlpy.tag import Kkma\n",
    "from konlpy.tag import Okt\n",
    "from sklearn.feature_extraction.text import TfidfVectorizer\n",
    "\n",
    "def tokenizer_Kkma(text):\n",
    "    \n",
    "    # 내가 원하는 품사 (첫 알파벳)\n",
    "    my_tag = (\"N\", \"V\", \"M\", \"XR\")\n",
    "    \n",
    "    # 형태소 분석기 정의\n",
    "    kkma = Kkma()\n",
    "    \n",
    "    # 형태소 분석하기\n",
    "    words_with_tag = kkma.pos(text)\n",
    "    \n",
    "    # 조건에 맞는 단어만 남겨놓기\n",
    "    words = [word for word, tag in words_with_tag if (len(word) > 1) and (tag.startswith(my_tag))]\n",
    "    \n",
    "    return words\n",
    "\n",
    "def tokenizer_Okt(text):\n",
    "    \n",
    "    # 내가 원하는 품사 - 명사, 동사, 부사, 형용사\n",
    "    my_tag = (\"Noun\", \"Verb\", \"Adverb\", \"Adjective\")\n",
    "    \n",
    "    # 형태소 분석기 정의\n",
    "    okt = Okt()\n",
    "    \n",
    "    # 형태소 분석하기\n",
    "    words_with_tag = okt.pos(text)\n",
    "    \n",
    "    # 조건에 맞는 단어 남겨놓기\n",
    "    words = [word for word, tag in words_with_tag if (len(word) > 1) and (tag.startswith(my_tag))]\n",
    "    \n",
    "    return words\n",
    "    \n",
    "# TF-IDF 벡터라이저 정의\n",
    "# tfidf = TfidfVectorizer(tokenizer=tokenizer_Kkma, min_df=1)\n",
    "tfidf = TfidfVectorizer(tokenizer=tokenizer_Okt, min_df=1)\n",
    "\n",
    "# 벡터화하기\n",
    "tfidf_matrix = tfidf.fit_transform(df['story'])"
   ]
  },
  {
   "cell_type": "markdown",
   "id": "40467e04",
   "metadata": {},
   "source": [
    "###  형태소 분석기 테스트"
   ]
  },
  {
   "cell_type": "code",
   "execution_count": null,
   "id": "018c4f7f",
   "metadata": {},
   "outputs": [],
   "source": [
    "text = \"혼자서 자전거를 즐겨타던 모범생 조자현. 원치 않게 자전거 크루의 일에 자꾸 휘말리게 되는데... 자유를 꿈꾸는 청춘들의 스트릿라이딩 드라마!\"\n",
    "\n",
    "# 꼬꼬마 형태소 분석기 정의\n",
    "kkma = Kkma()\n",
    "    \n",
    "# 형태소 분석하기\n",
    "words_with_tag = kkma.pos(text)\n",
    "\n",
    "print(type(words_with_tag))\n",
    "print(words_with_tag)"
   ]
  },
  {
   "cell_type": "code",
   "execution_count": null,
   "id": "5a1ae5d1",
   "metadata": {},
   "outputs": [],
   "source": [
    "text = \"혼자서 자전거를 즐겨타던 모범생 조자현. 원치 않게 자전거 크루의 일에 자꾸 휘말리게 되는데... 자유를 꿈꾸는 청춘들의 스트릿라이딩 드라마!\"\n",
    "\n",
    "# Open Korea Text 형태소 분석기 정의\n",
    "okt = Okt()\n",
    "    \n",
    "# 형태소 분석하기\n",
    "words_with_tag = okt.pos(text)\n",
    "\n",
    "print(type(words_with_tag))\n",
    "print(words_with_tag)"
   ]
  },
  {
   "cell_type": "code",
   "execution_count": null,
   "id": "713abd62",
   "metadata": {},
   "outputs": [],
   "source": [
    "tfidf_matrix.shape"
   ]
  },
  {
   "cell_type": "code",
   "execution_count": null,
   "id": "092b1923",
   "metadata": {},
   "outputs": [],
   "source": [
    "tfidf_matrix"
   ]
  },
  {
   "cell_type": "markdown",
   "id": "d3e7dc81",
   "metadata": {},
   "source": [
    "### 코사인 유사도를 통한 단어 유사도 파악하기"
   ]
  },
  {
   "cell_type": "code",
   "execution_count": null,
   "id": "751caf59",
   "metadata": {},
   "outputs": [],
   "source": [
    "from sklearn.metrics.pairwise import linear_kernel\n",
    "\n",
    "# linear_kernel : cosine_similarity와 결과는 같지만 속도는 더 빠름\n",
    "# tfidf_matrix 벡터들간에 대한 내적을 통해 코사인 값을 비교\n",
    "cosine_sim = linear_kernel(tfidf_matrix, tfidf_matrix)\n",
    "cosine_sim"
   ]
  },
  {
   "cell_type": "markdown",
   "id": "a1ee8793",
   "metadata": {},
   "source": [
    "### 웹툰의 제목을 입력받으면 코사인 유사도를 통해서 가장 유사도가 높은 상위 10개의 영화 목록 반환"
   ]
  },
  {
   "cell_type": "code",
   "execution_count": null,
   "id": "99b84efa",
   "metadata": {},
   "outputs": [],
   "source": [
    "# 웹툰 제목에 따른 인덱스 값 불러오는 리스트\n",
    "indices = pd.Series(df.index, index=df['title']).drop_duplicates()\n",
    "indices"
   ]
  },
  {
   "cell_type": "code",
   "execution_count": null,
   "id": "06bee95e",
   "metadata": {},
   "outputs": [],
   "source": [
    "indices['호랑이형님']"
   ]
  },
  {
   "cell_type": "code",
   "execution_count": null,
   "id": "3e259345",
   "metadata": {},
   "outputs": [],
   "source": [
    "df.iloc[[461]]"
   ]
  },
  {
   "cell_type": "code",
   "execution_count": null,
   "id": "d415571a",
   "metadata": {},
   "outputs": [],
   "source": [
    "indices['캐슬2:만인지상']"
   ]
  },
  {
   "cell_type": "code",
   "execution_count": null,
   "id": "7f210387",
   "metadata": {},
   "outputs": [],
   "source": [
    "df.iloc[[193]]"
   ]
  },
  {
   "cell_type": "code",
   "execution_count": null,
   "id": "5f63d2c0",
   "metadata": {},
   "outputs": [],
   "source": [
    "def get_recommendations(title, cosine_sim=cosine_sim):\n",
    "    \n",
    "    # 웹툰 제목을 통해서 전체 데이터 기준 그 웹툰의 index 값을 얻기\n",
    "    idx = indices[title]\n",
    "    \n",
    "    # 코사인 유사도 매트릭스 (cosine_sim) 에서 idx 에 해당하는 데이터를 (idx, 유사도) 형태로 얻기\n",
    "    sim_scores = list(enumerate(cosine_sim[idx]))\n",
    "    \n",
    "    # 코사인 유사도 기준으로 내림차순 정렬\n",
    "    sim_scores = sorted(sim_scores, key=lambda x: x[1], reverse=True)\n",
    "    \n",
    "    # 자기 자신을 제외한 10개의 추천 엡툰을 슬라이싱\n",
    "    sim_scores = sim_scores[1:21]\n",
    "    \n",
    "    # 추천 웹툰 목록 10개의 인덱스 정보 추출\n",
    "    webtoon_indices = [i[0] for i in sim_scores]\n",
    "    \n",
    "    # 인덱스 정보를 통해 웹툰 제목 추출\n",
    "    return df['title'].iloc[webtoon_indices]"
   ]
  },
  {
   "cell_type": "code",
   "execution_count": null,
   "id": "c0155e47",
   "metadata": {},
   "outputs": [],
   "source": [
    "get_recommendations('신의 탑')"
   ]
  },
  {
   "cell_type": "code",
   "execution_count": null,
   "id": "82deebbd",
   "metadata": {},
   "outputs": [],
   "source": [
    "get_recommendations('호랑이형님')"
   ]
  },
  {
   "cell_type": "markdown",
   "id": "29e29fdf",
   "metadata": {},
   "source": [
    "### 객체 파일로 저장"
   ]
  },
  {
   "cell_type": "markdown",
   "id": "6acfdbc1",
   "metadata": {},
   "source": [
    "#### 추천 프로그램에서 사용하기 위한 [인덱스, 제목, 썸네일 주소, 웹툰 주소] 리스트만 가져오기"
   ]
  },
  {
   "cell_type": "code",
   "execution_count": null,
   "id": "a88e5c42",
   "metadata": {},
   "outputs": [],
   "source": [
    "df = df.reset_index()\n",
    "indices = pd.Series(df.index, index=df['title'])\n",
    "indices"
   ]
  },
  {
   "cell_type": "code",
   "execution_count": null,
   "id": "79100491",
   "metadata": {},
   "outputs": [],
   "source": [
    "webtoon = df[['id', 'title', 'thumbnail_url', 'webtoon_url']].copy().set_index('id')\n",
    "webtoon.head()"
   ]
  },
  {
   "cell_type": "code",
   "execution_count": null,
   "id": "9acd3748",
   "metadata": {},
   "outputs": [],
   "source": [
    "import pickle\n",
    "\n",
    "pickle.dump(webtoon, open('webtoon.pickle', 'wb'))\n",
    "pickle.dump(cosine_sim, open('cosine_sim_pickle', 'wb'))"
   ]
  }
 ],
 "metadata": {
  "kernelspec": {
   "display_name": "Python 3 (ipykernel)",
   "language": "python",
   "name": "python3"
  },
  "language_info": {
   "codemirror_mode": {
    "name": "ipython",
    "version": 3
   },
   "file_extension": ".py",
   "mimetype": "text/x-python",
   "name": "python",
   "nbconvert_exporter": "python",
   "pygments_lexer": "ipython3",
   "version": "3.11.4"
  }
 },
 "nbformat": 4,
 "nbformat_minor": 5
}
